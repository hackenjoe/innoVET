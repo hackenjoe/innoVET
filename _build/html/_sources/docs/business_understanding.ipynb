{
 "cells": [
  {
   "cell_type": "markdown",
   "id": "0c923dd5",
   "metadata": {},
   "source": [
    "(business_understanding)=\n",
    "\n",
    "# Aufgabenverständnis\n",
    "\n",
    "\n",
    "Die erste Phase in einem KI zentrierten Projekt konzentriert sich auf die präzise Beschreibung der betriebswirtschaftlichen Problemstellung. \n",
    "Im nächsten Schritt werden diese Problemstellungen in konkreten Anforderungen an die Datenanalyse überführt. \n",
    "Diese Startphase bildet damit die Grundlage für alle nachfolgenden Schritte und ist häufig mit einem regen Austausch zwischen dem Anwender der Lösung und dem Data Scientist verbunden. \n",
    "Bei umfangreicheren Projekten werden in diesem Schritt auch ein Projektplan, Zeitplan sowie erste Arbeitspakete definiert und eruiert. \n",
    "Entscheidend ist, dass der Anwender der Lösung immer mit einbezogen wird. Denn Entscheidungen die in dieser Phase getroffen werden, haben Auswirkungen für alle nachfolgende Schritte (siehe {numref}`Schaubild %s <crisp-dm>`). \n",
    "Manchmal scheitert ein Projekt aufgrund falscher Zielvorstellungen. Daher sollten vorweg immer die Möglichkeiten aber auch die Limitierungen der KI-Lösung eindeutig kommuniziert werden. Zusammenfassend werden hier folgende Aspekte berücksichtigt:\n",
    "\n",
    "* Betriebswirtschaftliche Problemdefinition\n",
    "* Situative Bewertung und Einschätzung des Vorhabens\n",
    "* Definition von Erfolgskriterien\n",
    "* Erstellung eines Projektfahrplans sowie Definition von Meilensteinen\n",
    "\n",
    "Wir vom KI-Kompetenzzentrum der THU unterstützen Sie gerne bei der Problemdefinition und können Ihnen Lösungsvorschläge aufzeigen. Häufig ergeben sich neue Anwendungsfälle wenn tägliche Routinearbeiten genauer betrachtet werden. Denn nahezu überall fallen Daten in irgendeiner Form an - und wo Daten anfallen können auch datengetriebene Lösungen mit einem betriebswirtschaftlichen Mehrwert entwickelt werden.\n",
    "\n",
    "```{admonition} Handwerkerbewertungen:\n",
    ":class: tip\n",
    "Für den beispielhaften Anwendungsfall der Gefühlsanalyse von Handwerkerbewertungen könnte sich ein lokales Handwerksunternehmen eine Klassifizierung von eingehenden Kundenmails an den Support wünschen. Mit einem ausgearbeiteten Projektfahrplan zwischen dem Unternehmen und dem Data Scientist wird die Phase schließlich abgeschlossen und die eigentliche Entwicklung kann beginnen. Wir wissen von [GoLocal](https://www.golocal.de/deutschland/reviews/handwerker/) das die Handwerkerbewertungen eine Bewertungsskala von 1 (miserabel) bis 5 (sehr gut) haben.\n",
    "```\n",
    "\n",
    "```{exercise} Ihre Aufgaben\n",
    ":class: dropdown\n",
    ":nonumber: true\n",
    "* Welche technische Anforderungen lassen sich aus dem Anwendungsfall ableiten?\n",
    "* Wer sind die Stakeholder und welche Bedürfnisse deckt der Anwendungsfall ab?\n",
    "* Erstellen Sie einen einfachen Projektfahrplan, wie Sie vorgehen würden, wenn Sie das Projekt realisieren. \n",
    "```\n",
    "\n",
    "\n",
    "\n",
    "\n",
    "<!--\n",
    "## Bibliography\n",
    "\n",
    "```{bibliography} ../_bibliography/references.bib\n",
    "```\n",
    "-->"
   ]
  }
 ],
 "metadata": {
  "jupytext": {
   "text_representation": {
    "extension": ".md",
    "format_name": "myst"
   }
  },
  "kernelspec": {
   "display_name": "Python 3",
   "language": "python",
   "name": "python3"
  },
  "language_info": {
   "codemirror_mode": {
    "name": "ipython",
    "version": 3
   },
   "file_extension": ".py",
   "mimetype": "text/x-python",
   "name": "python",
   "nbconvert_exporter": "python",
   "pygments_lexer": "ipython3",
   "version": "3.9.7"
  },
  "source_map": [
   10
  ]
 },
 "nbformat": 4,
 "nbformat_minor": 5
}